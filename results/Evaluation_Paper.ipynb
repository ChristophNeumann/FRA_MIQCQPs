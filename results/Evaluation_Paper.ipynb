{
 "cells": [
  {
   "cell_type": "markdown",
   "metadata": {},
   "source": [
    "# An inner parallel cutting plane method for convex mixed-integer optimization problems \n",
    "\n",
    "## Summary of the document\n",
    "\n",
    "This document is complementary to the paper \"Granularity in mixed-integer nonlinear optimization\". The intention is to make the numerical results transparent. The generated results for the IPCP, the feasibility pump as well as for B-Hyb are stored as pandas data-frames and are concatenated herein. \n",
    "\n",
    "The latex-tables of the article are produced by using the command print(dataframe.to_latex(float_format = '%.2f'))"
   ]
  },
  {
   "cell_type": "code",
   "execution_count": 10,
   "metadata": {
    "collapsed": false
   },
   "outputs": [],
   "source": [
    "import pandas as pd\n",
    "import numpy as np\n",
    "import pickle\n",
    "def load_obj(name ):\n",
    "    with open(name + '.pkl', 'rb') as f:\n",
    "        return pickle.load(f)"
   ]
  },
  {
   "cell_type": "markdown",
   "metadata": {},
   "source": [
    "## First quick check"
   ]
  },
  {
   "cell_type": "code",
   "execution_count": 14,
   "metadata": {
    "collapsed": true
   },
   "outputs": [],
   "source": [
    "result = load_obj('intermediate_results')"
   ]
  },
  {
   "cell_type": "code",
   "execution_count": 15,
   "metadata": {
    "collapsed": false
   },
   "outputs": [
    {
     "data": {
      "text/html": [
       "<div>\n",
       "<table border=\"1\" class=\"dataframe\">\n",
       "  <thead>\n",
       "    <tr style=\"text-align: right;\">\n",
       "      <th></th>\n",
       "      <th>vars</th>\n",
       "      <th>constrs</th>\n",
       "      <th>time L</th>\n",
       "      <th>time SOR</th>\n",
       "      <th>obj</th>\n",
       "      <th>constr_value</th>\n",
       "    </tr>\n",
       "  </thead>\n",
       "  <tbody>\n",
       "    <tr>\n",
       "      <th>cvxnonsep_normcon20r</th>\n",
       "      <td>(40, 10, 0)</td>\n",
       "      <td>(21, 20, 10, 10)</td>\n",
       "      <td>1.3223440647125244</td>\n",
       "      <td>0.0938119888305664</td>\n",
       "      <td>-14.6549272394</td>\n",
       "      <td>-inf</td>\n",
       "    </tr>\n",
       "    <tr>\n",
       "      <th>cvxnonsep_normcon30r</th>\n",
       "      <td>(60, 15, 0)</td>\n",
       "      <td>(31, 30, 15, 15)</td>\n",
       "      <td>1.8771684169769287</td>\n",
       "      <td>0.09380459785461426</td>\n",
       "      <td>-14.8031228018</td>\n",
       "      <td>-inf</td>\n",
       "    </tr>\n",
       "    <tr>\n",
       "      <th>ex4</th>\n",
       "      <td>(36, 25, 25)</td>\n",
       "      <td>(30, 25, 25, 0)</td>\n",
       "      <td>0</td>\n",
       "      <td>0.09373617172241211</td>\n",
       "      <td>-6.70152492653</td>\n",
       "      <td>-inf</td>\n",
       "    </tr>\n",
       "    <tr>\n",
       "      <th>ex1223a</th>\n",
       "      <td>(7, 4, 4)</td>\n",
       "      <td>(9, 4, 4, 0)</td>\n",
       "      <td>0</td>\n",
       "      <td>0.06250691413879395</td>\n",
       "      <td>6.06978727803</td>\n",
       "      <td>-inf</td>\n",
       "    </tr>\n",
       "    <tr>\n",
       "      <th>ringpack_10_1</th>\n",
       "      <td>(70, 50, 50)</td>\n",
       "      <td>(385, 330, 330, 0)</td>\n",
       "      <td>0</td>\n",
       "      <td>0.6323020458221436</td>\n",
       "      <td>-4.17164353115092</td>\n",
       "      <td>-inf</td>\n",
       "    </tr>\n",
       "    <tr>\n",
       "      <th>smallinvDAXr1b150-165</th>\n",
       "      <td>(31, 30, 0)</td>\n",
       "      <td>(4, 1, 1, 1)</td>\n",
       "      <td>0.24251556396484375</td>\n",
       "      <td>0.0624847412109375</td>\n",
       "      <td>224.691303163</td>\n",
       "      <td>-124.027294155</td>\n",
       "    </tr>\n",
       "  </tbody>\n",
       "</table>\n",
       "</div>"
      ],
      "text/plain": [
       "                               vars             constrs               time L  \\\n",
       "cvxnonsep_normcon20r    (40, 10, 0)    (21, 20, 10, 10)   1.3223440647125244   \n",
       "cvxnonsep_normcon30r    (60, 15, 0)    (31, 30, 15, 15)   1.8771684169769287   \n",
       "ex4                    (36, 25, 25)     (30, 25, 25, 0)                    0   \n",
       "ex1223a                   (7, 4, 4)        (9, 4, 4, 0)                    0   \n",
       "ringpack_10_1          (70, 50, 50)  (385, 330, 330, 0)                    0   \n",
       "smallinvDAXr1b150-165   (31, 30, 0)        (4, 1, 1, 1)  0.24251556396484375   \n",
       "\n",
       "                                  time SOR                obj    constr_value  \n",
       "cvxnonsep_normcon20r    0.0938119888305664     -14.6549272394            -inf  \n",
       "cvxnonsep_normcon30r   0.09380459785461426     -14.8031228018            -inf  \n",
       "ex4                    0.09373617172241211     -6.70152492653            -inf  \n",
       "ex1223a                0.06250691413879395      6.06978727803            -inf  \n",
       "ringpack_10_1           0.6323020458221436  -4.17164353115092            -inf  \n",
       "smallinvDAXr1b150-165   0.0624847412109375      224.691303163  -124.027294155  "
      ]
     },
     "execution_count": 15,
     "metadata": {},
     "output_type": "execute_result"
    }
   ],
   "source": [
    "result"
   ]
  }
 ],
 "metadata": {
  "kernelspec": {
   "display_name": "Python 3",
   "language": "python",
   "name": "python3"
  },
  "language_info": {
   "codemirror_mode": {
    "name": "ipython",
    "version": 3
   },
   "file_extension": ".py",
   "mimetype": "text/x-python",
   "name": "python",
   "nbconvert_exporter": "python",
   "pygments_lexer": "ipython3",
   "version": "3.5.0"
  }
 },
 "nbformat": 4,
 "nbformat_minor": 0
}
