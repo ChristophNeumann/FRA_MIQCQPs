{
 "cells": [
  {
   "cell_type": "markdown",
   "metadata": {},
   "source": [
    "# An inner parallel cutting plane method for convex mixed-integer optimization problems \n",
    "\n",
    "## Summary of the document\n",
    "\n",
    "This document is complementary to the paper \"Granularity in mixed-integer nonlinear optimization\". The intention is to make the numerical results transparent. The generated results for the IPCP, the feasibility pump as well as for B-Hyb are stored as pandas data-frames and are concatenated herein. \n",
    "\n",
    "The latex-tables of the article are produced by using the command print(dataframe.to_latex(float_format = '%.2f'))"
   ]
  },
  {
   "cell_type": "code",
   "execution_count": 11,
   "metadata": {},
   "outputs": [],
   "source": [
    "import pandas as pd\n",
    "pd.options.display.float_format = '${:,.2f}'.format\n",
    "import numpy as np\n",
    "import pickle\n",
    "def load_obj(name ):\n",
    "    with open(name + '.pkl', 'rb') as f:\n",
    "        return pickle.load(f)"
   ]
  },
  {
   "cell_type": "markdown",
   "metadata": {},
   "source": [
    "## First quick check"
   ]
  },
  {
   "cell_type": "code",
   "execution_count": 12,
   "metadata": {},
   "outputs": [],
   "source": [
    "result = load_obj('res_overview_small_testset')"
   ]
  },
  {
   "cell_type": "code",
   "execution_count": 15,
   "metadata": {},
   "outputs": [
    {
     "data": {
      "text/html": [
       "<div>\n",
       "<style scoped>\n",
       "    .dataframe tbody tr th:only-of-type {\n",
       "        vertical-align: middle;\n",
       "    }\n",
       "\n",
       "    .dataframe tbody tr th {\n",
       "        vertical-align: top;\n",
       "    }\n",
       "\n",
       "    .dataframe thead th {\n",
       "        text-align: right;\n",
       "    }\n",
       "</style>\n",
       "<table border=\"1\" class=\"dataframe\">\n",
       "  <thead>\n",
       "    <tr style=\"text-align: right;\">\n",
       "      <th></th>\n",
       "      <th>vars</th>\n",
       "      <th>constrs</th>\n",
       "      <th>time L</th>\n",
       "      <th>time SOR</th>\n",
       "      <th>obj</th>\n",
       "      <th>constr_value</th>\n",
       "      <th>time_bonmin</th>\n",
       "      <th>obj_bonmin</th>\n",
       "    </tr>\n",
       "  </thead>\n",
       "  <tbody>\n",
       "    <tr>\n",
       "      <th>cvxnonsep_normcon20r</th>\n",
       "      <td>(40, 10, 0)</td>\n",
       "      <td>(21, 20, 10, 10)</td>\n",
       "      <td>$1.73</td>\n",
       "      <td>$0.08</td>\n",
       "      <td>$-14.65</td>\n",
       "      <td>$-inf</td>\n",
       "      <td>$0.21</td>\n",
       "      <td>$-15.26</td>\n",
       "    </tr>\n",
       "    <tr>\n",
       "      <th>cvxnonsep_normcon30r</th>\n",
       "      <td>(60, 15, 0)</td>\n",
       "      <td>(31, 30, 15, 15)</td>\n",
       "      <td>$2.66</td>\n",
       "      <td>$0.07</td>\n",
       "      <td>$-14.80</td>\n",
       "      <td>$-inf</td>\n",
       "      <td>$0.16</td>\n",
       "      <td>$-22.71</td>\n",
       "    </tr>\n",
       "    <tr>\n",
       "      <th>ex4</th>\n",
       "      <td>(36, 25, 25)</td>\n",
       "      <td>(30, 25, 25, 0)</td>\n",
       "      <td>$0.00</td>\n",
       "      <td>$0.06</td>\n",
       "      <td>$-6.70</td>\n",
       "      <td>$-inf</td>\n",
       "      <td>$0.98</td>\n",
       "      <td>$-6.86</td>\n",
       "    </tr>\n",
       "    <tr>\n",
       "      <th>ex1223a</th>\n",
       "      <td>(7, 4, 4)</td>\n",
       "      <td>(9, 4, 4, 0)</td>\n",
       "      <td>$0.00</td>\n",
       "      <td>$0.06</td>\n",
       "      <td>$6.07</td>\n",
       "      <td>$-inf</td>\n",
       "      <td>$0.17</td>\n",
       "      <td>$4.58</td>\n",
       "    </tr>\n",
       "    <tr>\n",
       "      <th>ringpack_10_1</th>\n",
       "      <td>(70, 50, 50)</td>\n",
       "      <td>(385, 330, 330, 0)</td>\n",
       "      <td>$0.00</td>\n",
       "      <td>$0.47</td>\n",
       "      <td>$-4.17</td>\n",
       "      <td>$-inf</td>\n",
       "      <td>$2.65</td>\n",
       "      <td>$-4.17</td>\n",
       "    </tr>\n",
       "    <tr>\n",
       "      <th>smallinvDAXr1b150-165</th>\n",
       "      <td>(31, 30, 0)</td>\n",
       "      <td>(4, 1, 1, 1)</td>\n",
       "      <td>$0.20</td>\n",
       "      <td>$0.05</td>\n",
       "      <td>$224.69</td>\n",
       "      <td>$-124.03</td>\n",
       "      <td>$14.89</td>\n",
       "      <td>$164.97</td>\n",
       "    </tr>\n",
       "  </tbody>\n",
       "</table>\n",
       "</div>"
      ],
      "text/plain": [
       "                               vars             constrs  time L  time SOR  \\\n",
       "cvxnonsep_normcon20r    (40, 10, 0)    (21, 20, 10, 10)   $1.73     $0.08   \n",
       "cvxnonsep_normcon30r    (60, 15, 0)    (31, 30, 15, 15)   $2.66     $0.07   \n",
       "ex4                    (36, 25, 25)     (30, 25, 25, 0)   $0.00     $0.06   \n",
       "ex1223a                   (7, 4, 4)        (9, 4, 4, 0)   $0.00     $0.06   \n",
       "ringpack_10_1          (70, 50, 50)  (385, 330, 330, 0)   $0.00     $0.47   \n",
       "smallinvDAXr1b150-165   (31, 30, 0)        (4, 1, 1, 1)   $0.20     $0.05   \n",
       "\n",
       "                          obj  constr_value  time_bonmin  obj_bonmin  \n",
       "cvxnonsep_normcon20r  $-14.65         $-inf        $0.21     $-15.26  \n",
       "cvxnonsep_normcon30r  $-14.80         $-inf        $0.16     $-22.71  \n",
       "ex4                    $-6.70         $-inf        $0.98      $-6.86  \n",
       "ex1223a                 $6.07         $-inf        $0.17       $4.58  \n",
       "ringpack_10_1          $-4.17         $-inf        $2.65      $-4.17  \n",
       "smallinvDAXr1b150-165 $224.69      $-124.03       $14.89     $164.97  "
      ]
     },
     "execution_count": 15,
     "metadata": {},
     "output_type": "execute_result"
    }
   ],
   "source": [
    "result"
   ]
  },
  {
   "cell_type": "code",
   "execution_count": null,
   "metadata": {},
   "outputs": [],
   "source": []
  }
 ],
 "metadata": {
  "kernelspec": {
   "display_name": "Python 3",
   "language": "python",
   "name": "python3"
  },
  "language_info": {
   "codemirror_mode": {
    "name": "ipython",
    "version": 3
   },
   "file_extension": ".py",
   "mimetype": "text/x-python",
   "name": "python",
   "nbconvert_exporter": "python",
   "pygments_lexer": "ipython3",
   "version": "3.6.6"
  }
 },
 "nbformat": 4,
 "nbformat_minor": 1
}
