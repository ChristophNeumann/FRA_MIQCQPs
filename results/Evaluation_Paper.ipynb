{
 "cells": [
  {
   "cell_type": "markdown",
   "metadata": {},
   "source": [
    "# An inner parallel cutting plane method for convex mixed-integer optimization problems \n",
    "\n",
    "## Summary of the document\n",
    "\n",
    "This document is complementary to the paper \"Granularity in mixed-integer nonlinear optimization\". The intention is to make the numerical results transparent. The generated results for the IPCP, the feasibility pump as well as for B-Hyb are stored as pandas data-frames and are concatenated herein. \n",
    "\n",
    "The latex-tables of the article are produced by using the command print(dataframe.to_latex(float_format = '%.2f'))"
   ]
  },
  {
   "cell_type": "code",
   "execution_count": 10,
   "metadata": {
    "collapsed": false
   },
   "outputs": [],
   "source": [
    "import pandas as pd\n",
    "import numpy as np\n",
    "import pickle\n",
    "def load_obj(name ):\n",
    "    with open(name + '.pkl', 'rb') as f:\n",
    "        return pickle.load(f)"
   ]
  },
  {
   "cell_type": "markdown",
   "metadata": {},
   "source": [
    "## First quick check"
   ]
  },
  {
   "cell_type": "code",
   "execution_count": 12,
   "metadata": {
    "collapsed": false
   },
   "outputs": [],
   "source": [
    "result = load_obj('result_overview')"
   ]
  },
  {
   "cell_type": "code",
   "execution_count": 14,
   "metadata": {
    "collapsed": false
   },
   "outputs": [
    {
     "data": {
      "text/html": [
       "<div>\n",
       "<table border=\"1\" class=\"dataframe\">\n",
       "  <thead>\n",
       "    <tr style=\"text-align: right;\">\n",
       "      <th></th>\n",
       "      <th>vars</th>\n",
       "      <th>constrs</th>\n",
       "      <th>time L</th>\n",
       "      <th>time SOR</th>\n",
       "      <th>obj</th>\n",
       "      <th>constr_value</th>\n",
       "      <th>time_bonmin</th>\n",
       "      <th>obj_bonmin</th>\n",
       "    </tr>\n",
       "  </thead>\n",
       "  <tbody>\n",
       "    <tr>\n",
       "      <th>cvxnonsep_normcon20r</th>\n",
       "      <td>(40, 10, 0)</td>\n",
       "      <td>(21, 20, 10, 10)</td>\n",
       "      <td>1.3052077293395996</td>\n",
       "      <td>0.0816507339477539</td>\n",
       "      <td>-14.6549272394</td>\n",
       "      <td>-inf</td>\n",
       "      <td>0.282246</td>\n",
       "      <td>-15.262740</td>\n",
       "    </tr>\n",
       "    <tr>\n",
       "      <th>cvxnonsep_normcon30r</th>\n",
       "      <td>(60, 15, 0)</td>\n",
       "      <td>(31, 30, 15, 15)</td>\n",
       "      <td>1.8531317710876465</td>\n",
       "      <td>0.07815122604370117</td>\n",
       "      <td>-14.8031228018</td>\n",
       "      <td>-inf</td>\n",
       "      <td>0.186782</td>\n",
       "      <td>-22.712540</td>\n",
       "    </tr>\n",
       "    <tr>\n",
       "      <th>ex4</th>\n",
       "      <td>(36, 25, 25)</td>\n",
       "      <td>(30, 25, 25, 0)</td>\n",
       "      <td>0</td>\n",
       "      <td>0.07811260223388672</td>\n",
       "      <td>-6.70152492653</td>\n",
       "      <td>-inf</td>\n",
       "      <td>1.555873</td>\n",
       "      <td>-6.864137</td>\n",
       "    </tr>\n",
       "    <tr>\n",
       "      <th>ex1223a</th>\n",
       "      <td>(7, 4, 4)</td>\n",
       "      <td>(9, 4, 4, 0)</td>\n",
       "      <td>0</td>\n",
       "      <td>0.09380674362182617</td>\n",
       "      <td>6.06978727803</td>\n",
       "      <td>-inf</td>\n",
       "      <td>0.181516</td>\n",
       "      <td>4.579582</td>\n",
       "    </tr>\n",
       "    <tr>\n",
       "      <th>ringpack_10_1</th>\n",
       "      <td>(70, 50, 50)</td>\n",
       "      <td>(385, 330, 330, 0)</td>\n",
       "      <td>0</td>\n",
       "      <td>0.6109938621520996</td>\n",
       "      <td>-4.17164353115092</td>\n",
       "      <td>-inf</td>\n",
       "      <td>2.234720</td>\n",
       "      <td>-8.343287</td>\n",
       "    </tr>\n",
       "    <tr>\n",
       "      <th>smallinvDAXr1b150-165</th>\n",
       "      <td>(31, 30, 0)</td>\n",
       "      <td>(4, 1, 1, 1)</td>\n",
       "      <td>0.2511715888977051</td>\n",
       "      <td>0.07285046577453613</td>\n",
       "      <td>224.691303163</td>\n",
       "      <td>-124.027294155</td>\n",
       "      <td>14.190041</td>\n",
       "      <td>164.970025</td>\n",
       "    </tr>\n",
       "  </tbody>\n",
       "</table>\n",
       "</div>"
      ],
      "text/plain": [
       "                               vars             constrs              time L  \\\n",
       "cvxnonsep_normcon20r    (40, 10, 0)    (21, 20, 10, 10)  1.3052077293395996   \n",
       "cvxnonsep_normcon30r    (60, 15, 0)    (31, 30, 15, 15)  1.8531317710876465   \n",
       "ex4                    (36, 25, 25)     (30, 25, 25, 0)                   0   \n",
       "ex1223a                   (7, 4, 4)        (9, 4, 4, 0)                   0   \n",
       "ringpack_10_1          (70, 50, 50)  (385, 330, 330, 0)                   0   \n",
       "smallinvDAXr1b150-165   (31, 30, 0)        (4, 1, 1, 1)  0.2511715888977051   \n",
       "\n",
       "                                  time SOR                obj    constr_value  \\\n",
       "cvxnonsep_normcon20r    0.0816507339477539     -14.6549272394            -inf   \n",
       "cvxnonsep_normcon30r   0.07815122604370117     -14.8031228018            -inf   \n",
       "ex4                    0.07811260223388672     -6.70152492653            -inf   \n",
       "ex1223a                0.09380674362182617      6.06978727803            -inf   \n",
       "ringpack_10_1           0.6109938621520996  -4.17164353115092            -inf   \n",
       "smallinvDAXr1b150-165  0.07285046577453613      224.691303163  -124.027294155   \n",
       "\n",
       "                       time_bonmin  obj_bonmin  \n",
       "cvxnonsep_normcon20r      0.282246  -15.262740  \n",
       "cvxnonsep_normcon30r      0.186782  -22.712540  \n",
       "ex4                       1.555873   -6.864137  \n",
       "ex1223a                   0.181516    4.579582  \n",
       "ringpack_10_1             2.234720   -8.343287  \n",
       "smallinvDAXr1b150-165    14.190041  164.970025  "
      ]
     },
     "execution_count": 14,
     "metadata": {},
     "output_type": "execute_result"
    }
   ],
   "source": [
    "result"
   ]
  }
 ],
 "metadata": {
  "kernelspec": {
   "display_name": "Python 3",
   "language": "python",
   "name": "python3"
  },
  "language_info": {
   "codemirror_mode": {
    "name": "ipython",
    "version": 3
   },
   "file_extension": ".py",
   "mimetype": "text/x-python",
   "name": "python",
   "nbconvert_exporter": "python",
   "pygments_lexer": "ipython3",
   "version": "3.5.0"
  }
 },
 "nbformat": 4,
 "nbformat_minor": 0
}
