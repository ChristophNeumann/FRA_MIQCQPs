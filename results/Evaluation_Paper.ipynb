{
 "cells": [
  {
   "cell_type": "markdown",
   "metadata": {},
   "source": [
    "# An inner parallel cutting plane method for convex mixed-integer optimization problems \n",
    "\n",
    "## Summary of the document\n",
    "\n",
    "This document is complementary to the paper \"Granularity in mixed-integer nonlinear optimization\". The intention is to make the numerical results transparent. The generated results for the IPCP, the feasibility pump as well as for B-Hyb are stored as pandas data-frames and are concatenated herein. \n",
    "\n",
    "The latex-tables of the article are produced by using the command print(dataframe.to_latex(float_format = '%.2f'))"
   ]
  },
  {
   "cell_type": "code",
   "execution_count": 2,
   "metadata": {
    "collapsed": false
   },
   "outputs": [],
   "source": [
    "import pandas as pd\n",
    "import numpy as np\n",
    "import pickle\n",
    "def load_obj(name ):\n",
    "    with open(name + '.pkl', 'rb') as f:\n",
    "        return pickle.load(f)"
   ]
  },
  {
   "cell_type": "markdown",
   "metadata": {},
   "source": [
    "## First quick check"
   ]
  },
  {
   "cell_type": "code",
   "execution_count": 3,
   "metadata": {
    "collapsed": false
   },
   "outputs": [],
   "source": [
    "result = load_obj('intermediate_results')"
   ]
  },
  {
   "cell_type": "code",
   "execution_count": 4,
   "metadata": {
    "collapsed": false
   },
   "outputs": [
    {
     "data": {
      "text/html": [
       "<div>\n",
       "<table border=\"1\" class=\"dataframe\">\n",
       "  <thead>\n",
       "    <tr style=\"text-align: right;\">\n",
       "      <th></th>\n",
       "      <th>vars</th>\n",
       "      <th>constrs</th>\n",
       "      <th>time L</th>\n",
       "      <th>time SOR</th>\n",
       "      <th>obj</th>\n",
       "      <th>constr_value</th>\n",
       "    </tr>\n",
       "  </thead>\n",
       "  <tbody>\n",
       "    <tr>\n",
       "      <th>ex1223a</th>\n",
       "      <td>(7, 4, 4)</td>\n",
       "      <td>(9, 4, 4, 0)</td>\n",
       "      <td>0</td>\n",
       "      <td>0.08883237838745117</td>\n",
       "      <td>6.06978727803</td>\n",
       "      <td>-inf</td>\n",
       "    </tr>\n",
       "    <tr>\n",
       "      <th>ex1263a</th>\n",
       "      <td>(24, 24, 4)</td>\n",
       "      <td>(35, 4, 4, 4)</td>\n",
       "      <td>0.6177055835723877</td>\n",
       "      <td>0.16628646850585938</td>\n",
       "      <td>inf</td>\n",
       "      <td>-inf</td>\n",
       "    </tr>\n",
       "    <tr>\n",
       "      <th>ex1264a</th>\n",
       "      <td>(24, 24, 4)</td>\n",
       "      <td>(35, 4, 4, 4)</td>\n",
       "      <td>0.5596611499786377</td>\n",
       "      <td>0.14067363739013672</td>\n",
       "      <td>inf</td>\n",
       "      <td>-inf</td>\n",
       "    </tr>\n",
       "    <tr>\n",
       "      <th>ex1265a</th>\n",
       "      <td>(35, 35, 5)</td>\n",
       "      <td>(44, 5, 5, 5)</td>\n",
       "      <td>0.6873941421508789</td>\n",
       "      <td>0.1562671661376953</td>\n",
       "      <td>inf</td>\n",
       "      <td>-inf</td>\n",
       "    </tr>\n",
       "    <tr>\n",
       "      <th>ex1266a</th>\n",
       "      <td>(48, 48, 6)</td>\n",
       "      <td>(53, 6, 6, 6)</td>\n",
       "      <td>0.7341680526733398</td>\n",
       "      <td>0.10940694808959961</td>\n",
       "      <td>inf</td>\n",
       "      <td>-inf</td>\n",
       "    </tr>\n",
       "    <tr>\n",
       "      <th>faclay20h</th>\n",
       "      <td>(191, 190, 190)</td>\n",
       "      <td>(2281, 1, 1, 1)</td>\n",
       "      <td>253.1641721725464</td>\n",
       "      <td>12923.78670334816</td>\n",
       "      <td>inf</td>\n",
       "      <td>22909.0</td>\n",
       "    </tr>\n",
       "  </tbody>\n",
       "</table>\n",
       "</div>"
      ],
      "text/plain": [
       "                      vars          constrs              time L  \\\n",
       "ex1223a          (7, 4, 4)     (9, 4, 4, 0)                   0   \n",
       "ex1263a        (24, 24, 4)    (35, 4, 4, 4)  0.6177055835723877   \n",
       "ex1264a        (24, 24, 4)    (35, 4, 4, 4)  0.5596611499786377   \n",
       "ex1265a        (35, 35, 5)    (44, 5, 5, 5)  0.6873941421508789   \n",
       "ex1266a        (48, 48, 6)    (53, 6, 6, 6)  0.7341680526733398   \n",
       "faclay20h  (191, 190, 190)  (2281, 1, 1, 1)   253.1641721725464   \n",
       "\n",
       "                      time SOR            obj constr_value  \n",
       "ex1223a    0.08883237838745117  6.06978727803         -inf  \n",
       "ex1263a    0.16628646850585938            inf         -inf  \n",
       "ex1264a    0.14067363739013672            inf         -inf  \n",
       "ex1265a     0.1562671661376953            inf         -inf  \n",
       "ex1266a    0.10940694808959961            inf         -inf  \n",
       "faclay20h    12923.78670334816            inf      22909.0  "
      ]
     },
     "execution_count": 4,
     "metadata": {},
     "output_type": "execute_result"
    }
   ],
   "source": [
    "result"
   ]
  }
 ],
 "metadata": {
  "kernelspec": {
   "display_name": "Python 3",
   "language": "python",
   "name": "python3"
  }
 },
 "nbformat": 4,
 "nbformat_minor": 0
}
