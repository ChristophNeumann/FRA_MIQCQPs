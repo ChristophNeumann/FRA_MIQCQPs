{
 "cells": [
  {
   "cell_type": "markdown",
   "metadata": {},
   "source": [
    "# An inner parallel cutting plane method for convex mixed-integer optimization problems \n",
    "\n",
    "## Summary of the document\n",
    "\n",
    "This document is complementary to the paper \"Granularity in mixed-integer nonlinear optimization\". The intention is to make the numerical results transparent. The generated results for the IPCP, the feasibility pump as well as for B-Hyb are stored as pandas data-frames and are concatenated herein. \n",
    "\n",
    "The latex-tables of the article are produced by using the command print(dataframe.to_latex(float_format = '%.2f'))"
   ]
  },
  {
   "cell_type": "code",
   "execution_count": 1,
   "metadata": {
    "collapsed": false
   },
   "outputs": [],
   "source": [
    "import pandas as pd\n",
    "import numpy as np\n",
    "import pickle\n",
    "def load_obj(name ):\n",
    "    with open(name + '.pkl', 'rb') as f:\n",
    "        return pickle.load(f)"
   ]
  },
  {
   "cell_type": "markdown",
   "metadata": {},
   "source": [
    "## First quick check"
   ]
  },
  {
   "cell_type": "code",
   "execution_count": 2,
   "metadata": {
    "collapsed": true
   },
   "outputs": [],
   "source": [
    "result = load_obj('intermediate_results')"
   ]
  },
  {
   "cell_type": "code",
   "execution_count": 3,
   "metadata": {
    "collapsed": false
   },
   "outputs": [
    {
     "data": {
      "text/html": [
       "<div>\n",
       "<table border=\"1\" class=\"dataframe\">\n",
       "  <thead>\n",
       "    <tr style=\"text-align: right;\">\n",
       "      <th></th>\n",
       "      <th>vars</th>\n",
       "      <th>constrs</th>\n",
       "      <th>time L</th>\n",
       "      <th>time SOR</th>\n",
       "      <th>obj</th>\n",
       "      <th>constr_value</th>\n",
       "    </tr>\n",
       "  </thead>\n",
       "  <tbody>\n",
       "    <tr>\n",
       "      <th>cvxnonsep_normcon20r</th>\n",
       "      <td>40(10)</td>\n",
       "      <td>21(20)</td>\n",
       "      <td>2.1262450218200684</td>\n",
       "      <td>0.12497115135192871</td>\n",
       "      <td>-14.6549272394</td>\n",
       "      <td>-inf</td>\n",
       "    </tr>\n",
       "    <tr>\n",
       "      <th>cvxnonsep_normcon30r</th>\n",
       "      <td>60(15)</td>\n",
       "      <td>31(30)</td>\n",
       "      <td>2.3533456325531006</td>\n",
       "      <td>0.09373354911804199</td>\n",
       "      <td>-14.8031228018</td>\n",
       "      <td>-inf</td>\n",
       "    </tr>\n",
       "    <tr>\n",
       "      <th>ex4</th>\n",
       "      <td>36(25)</td>\n",
       "      <td>30(25)</td>\n",
       "      <td>3.8755712509155273</td>\n",
       "      <td>0.09377622604370117</td>\n",
       "      <td>-6.70152492653</td>\n",
       "      <td>-inf</td>\n",
       "    </tr>\n",
       "    <tr>\n",
       "      <th>ex1223a</th>\n",
       "      <td>7(4)</td>\n",
       "      <td>9(4)</td>\n",
       "      <td>0.6386504173278809</td>\n",
       "      <td>0.07814860343933105</td>\n",
       "      <td>6.06978727803</td>\n",
       "      <td>-inf</td>\n",
       "    </tr>\n",
       "    <tr>\n",
       "      <th>ringpack_10_1</th>\n",
       "      <td>70(50)</td>\n",
       "      <td>385(330)</td>\n",
       "      <td>54.15729641914368</td>\n",
       "      <td>0.5916244983673096</td>\n",
       "      <td>-4.17164353115092</td>\n",
       "      <td>-inf</td>\n",
       "    </tr>\n",
       "    <tr>\n",
       "      <th>smallinvDAXr1b150-165</th>\n",
       "      <td>31(30)</td>\n",
       "      <td>4(1)</td>\n",
       "      <td>0.19010472297668457</td>\n",
       "      <td>0.09376144409179688</td>\n",
       "      <td>224.691303163</td>\n",
       "      <td>-124.027294155</td>\n",
       "    </tr>\n",
       "  </tbody>\n",
       "</table>\n",
       "</div>"
      ],
      "text/plain": [
       "                         vars   constrs               time L  \\\n",
       "cvxnonsep_normcon20r   40(10)    21(20)   2.1262450218200684   \n",
       "cvxnonsep_normcon30r   60(15)    31(30)   2.3533456325531006   \n",
       "ex4                    36(25)    30(25)   3.8755712509155273   \n",
       "ex1223a                  7(4)      9(4)   0.6386504173278809   \n",
       "ringpack_10_1          70(50)  385(330)    54.15729641914368   \n",
       "smallinvDAXr1b150-165  31(30)      4(1)  0.19010472297668457   \n",
       "\n",
       "                                  time SOR                obj    constr_value  \n",
       "cvxnonsep_normcon20r   0.12497115135192871     -14.6549272394            -inf  \n",
       "cvxnonsep_normcon30r   0.09373354911804199     -14.8031228018            -inf  \n",
       "ex4                    0.09377622604370117     -6.70152492653            -inf  \n",
       "ex1223a                0.07814860343933105      6.06978727803            -inf  \n",
       "ringpack_10_1           0.5916244983673096  -4.17164353115092            -inf  \n",
       "smallinvDAXr1b150-165  0.09376144409179688      224.691303163  -124.027294155  "
      ]
     },
     "execution_count": 3,
     "metadata": {},
     "output_type": "execute_result"
    }
   ],
   "source": [
    "result"
   ]
  }
 ],
 "metadata": {
  "kernelspec": {
   "display_name": "Python 3",
   "language": "python",
   "name": "python3"
  },
  "language_info": {
   "codemirror_mode": {
    "name": "ipython",
    "version": 3
   },
   "file_extension": ".py",
   "mimetype": "text/x-python",
   "name": "python",
   "nbconvert_exporter": "python",
   "pygments_lexer": "ipython3",
   "version": "3.5.0"
  }
 },
 "nbformat": 4,
 "nbformat_minor": 0
}
